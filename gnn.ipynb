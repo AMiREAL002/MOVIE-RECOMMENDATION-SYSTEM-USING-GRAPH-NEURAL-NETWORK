{
 "cells": [
  {
   "cell_type": "code",
   "execution_count": 33,
   "id": "585fcdc1",
   "metadata": {},
   "outputs": [],
   "source": [
    "import os\n",
    "\n",
    "from collections import defaultdict\n",
    "\n",
    "import math\n",
    "\n",
    "import networkx as nx\n",
    "\n",
    "import random\n",
    "\n",
    "from tqdm import tqdm\n",
    "\n",
    "from zipfile import ZipFile\n",
    "\n",
    "from urllib.request import urlretrieve\n",
    "\n",
    "import numpy as np\n",
    "\n",
    "import pandas as pd\n",
    "\n",
    "import tensorflow as tf\n",
    "\n",
    "from tensorflow import keras\n",
    "\n",
    "from tensorflow.keras import layers\n",
    "\n",
    "import matplotlib.pyplot as plt"
   ]
  },
  {
   "cell_type": "code",
   "execution_count": null,
   "id": "143b8bc3",
   "metadata": {},
   "outputs": [],
   "source": [
    "urlretrieve( \"http://files.grouplens.org/datasets/movielens/ml-latest-small.zip\", \"movielens.zip\")\n",
    "\n",
    "ZipFile(\"movielens.zip\", \"r\").extractall()"
   ]
  },
  {
   "cell_type": "code",
   "execution_count": 10,
   "id": "3d2536e9",
   "metadata": {},
   "outputs": [
    {
     "name": "stdout",
     "output_type": "stream",
     "text": [
      "Movies data shape: (9742, 3)\n",
      "Ratings data shape: (100836, 4)\n"
     ]
    }
   ],
   "source": [
    "# Load movies to a DataFrame\n",
    "\n",
    "movies = pd.read_csv(\"ml-latest-small/movies.csv\")\n",
    "\n",
    "# Create a `movieId` string\n",
    "\n",
    "movies[\"movieId\"] = movies[\"movieId\"].apply(lambda x: f\"movie_{x}\")\n",
    "\n",
    "# Load ratings to a DataFrame\n",
    "\n",
    "ratings = pd.read_csv(\"ml-latest-small/ratings.csv\") \n",
    "\n",
    "# Convert the `ratings` to floating point\n",
    "\n",
    "ratings[\"rating\"] = ratings[\"rating\"].apply(lambda x: float(x))\n",
    "\n",
    "# Create the `movie_id` string\n",
    "\n",
    "ratings[\"movieId\"] = ratings[\"movieId\"].apply(lambda x: f\"movie_{x}\")\n",
    "\n",
    "print(\"Movies data shape:\", movies.shape)\n",
    "\n",
    "print(\"Ratings data shape:\", ratings.shape)"
   ]
  },
  {
   "cell_type": "code",
   "execution_count": 11,
   "id": "a71de67c",
   "metadata": {},
   "outputs": [],
   "source": [
    "# This function gives us the name of the movie from the movieId\n",
    "def get_movie_title_by_id(movieId):\n",
    "    return list(movies[movies.movieId == movieId].title)[0]  \n",
    "\n",
    "# This function gives us the id of the movie from the name of the movie\n",
    "def get_movie_id_by_title(title):\n",
    "\n",
    "    return list(movies[movies.title == title].movieId)[0]"
   ]
  },
  {
   "cell_type": "code",
   "execution_count": 12,
   "id": "ee5a9f12",
   "metadata": {},
   "outputs": [
    {
     "data": {
      "text/html": [
       "<div>\n",
       "<style scoped>\n",
       "    .dataframe tbody tr th:only-of-type {\n",
       "        vertical-align: middle;\n",
       "    }\n",
       "\n",
       "    .dataframe tbody tr th {\n",
       "        vertical-align: top;\n",
       "    }\n",
       "\n",
       "    .dataframe thead th {\n",
       "        text-align: right;\n",
       "    }\n",
       "</style>\n",
       "<table border=\"1\" class=\"dataframe\">\n",
       "  <thead>\n",
       "    <tr style=\"text-align: right;\">\n",
       "      <th></th>\n",
       "      <th>userId</th>\n",
       "      <th>movieId</th>\n",
       "      <th>rating</th>\n",
       "      <th>timestamp</th>\n",
       "    </tr>\n",
       "  </thead>\n",
       "  <tbody>\n",
       "    <tr>\n",
       "      <th>0</th>\n",
       "      <td>1</td>\n",
       "      <td>movie_1</td>\n",
       "      <td>4.0</td>\n",
       "      <td>964982703</td>\n",
       "    </tr>\n",
       "    <tr>\n",
       "      <th>1</th>\n",
       "      <td>1</td>\n",
       "      <td>movie_3</td>\n",
       "      <td>4.0</td>\n",
       "      <td>964981247</td>\n",
       "    </tr>\n",
       "    <tr>\n",
       "      <th>2</th>\n",
       "      <td>1</td>\n",
       "      <td>movie_6</td>\n",
       "      <td>4.0</td>\n",
       "      <td>964982224</td>\n",
       "    </tr>\n",
       "    <tr>\n",
       "      <th>3</th>\n",
       "      <td>1</td>\n",
       "      <td>movie_47</td>\n",
       "      <td>5.0</td>\n",
       "      <td>964983815</td>\n",
       "    </tr>\n",
       "    <tr>\n",
       "      <th>4</th>\n",
       "      <td>1</td>\n",
       "      <td>movie_50</td>\n",
       "      <td>5.0</td>\n",
       "      <td>964982931</td>\n",
       "    </tr>\n",
       "  </tbody>\n",
       "</table>\n",
       "</div>"
      ],
      "text/plain": [
       "   userId   movieId  rating  timestamp\n",
       "0       1   movie_1     4.0  964982703\n",
       "1       1   movie_3     4.0  964981247\n",
       "2       1   movie_6     4.0  964982224\n",
       "3       1  movie_47     5.0  964983815\n",
       "4       1  movie_50     5.0  964982931"
      ]
     },
     "execution_count": 12,
     "metadata": {},
     "output_type": "execute_result"
    }
   ],
   "source": [
    "# Let's look at the datasets\n",
    "ratings.head() "
   ]
  },
  {
   "cell_type": "code",
   "execution_count": 13,
   "id": "e10f9d51",
   "metadata": {},
   "outputs": [
    {
     "data": {
      "text/html": [
       "<div>\n",
       "<style scoped>\n",
       "    .dataframe tbody tr th:only-of-type {\n",
       "        vertical-align: middle;\n",
       "    }\n",
       "\n",
       "    .dataframe tbody tr th {\n",
       "        vertical-align: top;\n",
       "    }\n",
       "\n",
       "    .dataframe thead th {\n",
       "        text-align: right;\n",
       "    }\n",
       "</style>\n",
       "<table border=\"1\" class=\"dataframe\">\n",
       "  <thead>\n",
       "    <tr style=\"text-align: right;\">\n",
       "      <th></th>\n",
       "      <th>movieId</th>\n",
       "      <th>title</th>\n",
       "      <th>genres</th>\n",
       "    </tr>\n",
       "  </thead>\n",
       "  <tbody>\n",
       "    <tr>\n",
       "      <th>0</th>\n",
       "      <td>movie_1</td>\n",
       "      <td>Toy Story (1995)</td>\n",
       "      <td>Adventure|Animation|Children|Comedy|Fantasy</td>\n",
       "    </tr>\n",
       "    <tr>\n",
       "      <th>1</th>\n",
       "      <td>movie_2</td>\n",
       "      <td>Jumanji (1995)</td>\n",
       "      <td>Adventure|Children|Fantasy</td>\n",
       "    </tr>\n",
       "    <tr>\n",
       "      <th>2</th>\n",
       "      <td>movie_3</td>\n",
       "      <td>Grumpier Old Men (1995)</td>\n",
       "      <td>Comedy|Romance</td>\n",
       "    </tr>\n",
       "    <tr>\n",
       "      <th>3</th>\n",
       "      <td>movie_4</td>\n",
       "      <td>Waiting to Exhale (1995)</td>\n",
       "      <td>Comedy|Drama|Romance</td>\n",
       "    </tr>\n",
       "    <tr>\n",
       "      <th>4</th>\n",
       "      <td>movie_5</td>\n",
       "      <td>Father of the Bride Part II (1995)</td>\n",
       "      <td>Comedy</td>\n",
       "    </tr>\n",
       "  </tbody>\n",
       "</table>\n",
       "</div>"
      ],
      "text/plain": [
       "   movieId                               title  \\\n",
       "0  movie_1                    Toy Story (1995)   \n",
       "1  movie_2                      Jumanji (1995)   \n",
       "2  movie_3             Grumpier Old Men (1995)   \n",
       "3  movie_4            Waiting to Exhale (1995)   \n",
       "4  movie_5  Father of the Bride Part II (1995)   \n",
       "\n",
       "                                        genres  \n",
       "0  Adventure|Animation|Children|Comedy|Fantasy  \n",
       "1                   Adventure|Children|Fantasy  \n",
       "2                               Comedy|Romance  \n",
       "3                         Comedy|Drama|Romance  \n",
       "4                                       Comedy  "
      ]
     },
     "execution_count": 13,
     "metadata": {},
     "output_type": "execute_result"
    }
   ],
   "source": [
    "movies.head()"
   ]
  },
  {
   "cell_type": "code",
   "execution_count": 14,
   "id": "ea3e70fa",
   "metadata": {},
   "outputs": [
    {
     "name": "stderr",
     "output_type": "stream",
     "text": [
      "Compute movie rating frequencies: 100%|████████████████████████████████████████████| 573/573 [00:00<00:00, 1434.10it/s]\n"
     ]
    }
   ],
   "source": [
    "min_rating = 5\n",
    "\n",
    "item_frequency = defaultdict(int)  # Dictionary to indicate how many times each movie has been watched\n",
    "\n",
    "pair_frequency = defaultdict(int)  # Dictionary to indicate how many times a particular pair of movies have been watched\n",
    "\n",
    "# Filter instances where the rating is greater than or equal to min_rating\n",
    "\n",
    "rated_movies = ratings[ratings.rating >= min_rating]\n",
    "\n",
    "# Group instances by the user. Here, each group contains movies watched by a particular user\n",
    "\n",
    "movies_grouped_by_users = list(rated_movies.groupby(\"userId\"))\n",
    "\n",
    "for group in tqdm(\n",
    "    \n",
    "    movies_grouped_by_users,\n",
    "    \n",
    "    position = 0,\n",
    "\n",
    "    leave = True,\n",
    "\n",
    "    desc = \"Compute movie rating frequencies\",):  # Iterating over all the groups\n",
    "\n",
    "    # Get a list of movies rated by the user\n",
    "\n",
    "    current_movies = list(group[1][\"movieId\"])\n",
    "\n",
    "    for i in range(len(current_movies)):\n",
    "\n",
    "        item_frequency[current_movies[i]] += 1  # Increasing count of item frequency for a particular movie on encountering it in a group\n",
    "        \n",
    "        for j in range(i + 1, len(current_movies)):\n",
    "            \n",
    "            x = min(current_movies[i], current_movies[j])\n",
    "            \n",
    "            y = max(current_movies[i], current_movies[j])\n",
    "            \n",
    "            pair_frequency[(x, y)] += 1  # Increasing count of pair frequency for a particular pair of movies on coming across it"
   ]
  },
  {
   "cell_type": "code",
   "execution_count": 15,
   "id": "c6426876",
   "metadata": {},
   "outputs": [
    {
     "name": "stderr",
     "output_type": "stream",
     "text": [
      "Creating the movie graph: 100%|████████████████████████████████████████████| 298586/298586 [00:00<00:00, 744227.33it/s]\n"
     ]
    }
   ],
   "source": [
    "min_weight = 10\n",
    "\n",
    "D = math.log(sum(item_frequency.values()))\n",
    "\n",
    "# Create the undirected graph with the movies as nodes\n",
    "\n",
    "movies_graph = nx.Graph()\n",
    "\n",
    "# Add weighted edges between movies\n",
    "\n",
    "# This automatically adds the movie nodes to the graph\n",
    "\n",
    "for pair in tqdm(pair_frequency, position = 0, leave = True, desc = \"Creating the movie graph\"):  # Iterating over every pair of movies\n",
    "    x, y = pair  # Unpacking the tuple called 'pair' to receive the two movies\n",
    "\n",
    "    \n",
    "    xy_frequency = pair_frequency[pair]  # Pair-wise frequency of two particular movies\n",
    "    \n",
    "    x_frequency = item_frequency[x]  # Item frequency for the first movie in the pair\n",
    "    \n",
    "    y_frequency = item_frequency[y]  # Item frequency for the second movie in the pair\n",
    "\n",
    "    # Calculating PMI index as a measure of the pairing strength\n",
    "\n",
    "    pmi = math.log(xy_frequency) - math.log(x_frequency) - math.log(y_frequency) + D\n",
    "\n",
    "    weight = pmi * xy_frequency\n",
    "\n",
    "    # Only include edges with weight >= min_weight\n",
    "\n",
    "    if weight >= min_weight:\n",
    "\n",
    "        movies_graph.add_edge(x, y, weight = weight)  # Adding the edge to those particular nodes"
   ]
  },
  {
   "cell_type": "code",
   "execution_count": 16,
   "id": "b38a9efc",
   "metadata": {},
   "outputs": [
    {
     "name": "stdout",
     "output_type": "stream",
     "text": [
      "Total number of graph nodes: 1405\n",
      "Total number of graph edges: 40043\n"
     ]
    }
   ],
   "source": [
    "print(\"Total number of graph nodes:\", movies_graph.number_of_nodes())\n",
    "\n",
    "print(\"Total number of graph edges:\", movies_graph.number_of_edges())"
   ]
  },
  {
   "cell_type": "code",
   "execution_count": 17,
   "id": "59d63c4b",
   "metadata": {},
   "outputs": [
    {
     "name": "stdout",
     "output_type": "stream",
     "text": [
      "Average node degree: 57.0\n"
     ]
    }
   ],
   "source": [
    "degrees = []\n",
    "\n",
    "for node in movies_graph.nodes:\n",
    "    \n",
    "    degrees.append(movies_graph.degree[node])\n",
    "\n",
    "print(\"Average node degree:\", round(sum(degrees) / len(degrees), 2))"
   ]
  },
  {
   "cell_type": "code",
   "execution_count": 18,
   "id": "c7bb3361",
   "metadata": {},
   "outputs": [],
   "source": [
    "vocabulary = [\"NA\"] + list(movies_graph.nodes)\n",
    "\n",
    "vocabulary_lookup = {token: idx for idx, token in enumerate(vocabulary)}"
   ]
  },
  {
   "cell_type": "code",
   "execution_count": 19,
   "id": "12bb6011",
   "metadata": {},
   "outputs": [],
   "source": [
    "def next_step(graph, previous, current, p, q):\n",
    "\n",
    "    neighbors = list(graph.neighbors(current))\n",
    "\n",
    "    weights = []\n",
    "\n",
    "    # Adjust the weights of the edges to the neighbors with the help of p and q so that we can control or give a preference to which category of nodes we would want to visit next\n",
    "\n",
    "    for neighbor in neighbors: # Looping through all the neighbors\n",
    "\n",
    "        if neighbor == previous:\n",
    "\n",
    "            # Control the probability to return to the previous node\n",
    "\n",
    "            weights.append(graph[current][neighbor][\"weight\"] / p)\n",
    "\n",
    "        elif graph.has_edge(neighbor, previous):\n",
    "\n",
    "            # The probability of visiting a local node\n",
    "\n",
    "            weights.append(graph[current][neighbor][\"weight\"])\n",
    "\n",
    "        else:\n",
    "\n",
    "            # Control the probability to move forward\n",
    "\n",
    "            weights.append(graph[current][neighbor][\"weight\"] / q)\n",
    "\n",
    "    # Compute the probabilities of visiting each neighbor\n",
    "\n",
    "    weight_sum = sum(weights)\n",
    "\n",
    "    probabilities = [weight / weight_sum for weight in weights]\n",
    "\n",
    "    # Probabilistically select a neighbor to visit\n",
    "\n",
    "    next = np.random.choice(neighbors, size = 1, p = probabilities)[0]\n",
    "    \n",
    "    return next"
   ]
  },
  {
   "cell_type": "code",
   "execution_count": 20,
   "id": "8c0f17c7",
   "metadata": {},
   "outputs": [],
   "source": [
    "def random_walk(graph, num_walks, num_steps, p, q):\n",
    "\n",
    "    walks = []\n",
    "\n",
    "    nodes = list(graph.nodes())\n",
    "\n",
    "    # Perform multiple iterations of the random walk\n",
    "\n",
    "    for walk_iteration in range(num_walks):\n",
    "\n",
    "        random.shuffle(nodes)\n",
    "\n",
    "        for node in tqdm(\n",
    "            \n",
    "            nodes,\n",
    "\n",
    "            position = 0,\n",
    "\n",
    "            leave = True,\n",
    "\n",
    "            desc = f\"Random walks iteration {walk_iteration + 1} of {num_walks}\",\n",
    "        ):\n",
    "            # Start the walk with a random node from the graph\n",
    "\n",
    "            walk = [node]\n",
    "\n",
    "            # Randomly walk for num_steps by calling the next_step function we created above\n",
    "            \n",
    "            while len(walk) < num_steps:\n",
    "                \n",
    "                current = walk[-1]  # Current node is the last element of the array 'walk'\n",
    "                \n",
    "                previous = walk[-2] if len(walk) > 1 else None  # If the length of our array 'walk' is more than one, then the previous node is the second last element of the array 'walk'\n",
    "                \n",
    "                next = next_step(graph, previous, current, p, q)  # Compute the next node to visit\n",
    "                \n",
    "                walk.append(next)  # Append the next node obtained to the array 'walk'\n",
    "\n",
    "            # Replace node ids (movieId) in the walk with token ids by looking at the vocabulary lookup\n",
    "\n",
    "            walk = [vocabulary_lookup[token] for token in walk]\n",
    "\n",
    "            # Add the walk to the generated sequence\n",
    "            \n",
    "            walks.append(walk)\n",
    "\n",
    "    return walks"
   ]
  },
  {
   "cell_type": "code",
   "execution_count": 21,
   "id": "115399f1",
   "metadata": {},
   "outputs": [
    {
     "name": "stderr",
     "output_type": "stream",
     "text": [
      "Random walks iteration 1 of 5: 100%|██████████████████████████████████████████████| 1405/1405 [00:03<00:00, 420.10it/s]\n",
      "Random walks iteration 2 of 5: 100%|██████████████████████████████████████████████| 1405/1405 [00:03<00:00, 437.08it/s]\n",
      "Random walks iteration 3 of 5: 100%|██████████████████████████████████████████████| 1405/1405 [00:03<00:00, 428.22it/s]\n",
      "Random walks iteration 4 of 5: 100%|██████████████████████████████████████████████| 1405/1405 [00:03<00:00, 429.77it/s]\n",
      "Random walks iteration 5 of 5: 100%|██████████████████████████████████████████████| 1405/1405 [00:03<00:00, 427.01it/s]"
     ]
    },
    {
     "name": "stdout",
     "output_type": "stream",
     "text": [
      "Number of walks generated: 7025\n"
     ]
    },
    {
     "name": "stderr",
     "output_type": "stream",
     "text": [
      "\n"
     ]
    }
   ],
   "source": [
    "# Random walk return parameter\n",
    "\n",
    "p = 2\n",
    "\n",
    "# Random walk in-out parameter\n",
    "\n",
    "q = 1.5\n",
    "\n",
    "# Number of iterations of random walks\n",
    "\n",
    "num_walks = 5\n",
    "\n",
    "# Number of steps of each random walk\n",
    "\n",
    "num_steps = 10\n",
    "\n",
    "walks = random_walk(movies_graph, num_walks, num_steps, p, q)\n",
    "\n",
    "print(\"Number of walks generated:\", len(walks))\n"
   ]
  },
  {
   "cell_type": "code",
   "execution_count": 22,
   "id": "17857576",
   "metadata": {},
   "outputs": [
    {
     "name": "stderr",
     "output_type": "stream",
     "text": [
      "Generating postive and negative examples: 100%|███████████████████████████████████| 7025/7025 [00:07<00:00, 910.33it/s]\n"
     ]
    }
   ],
   "source": [
    "def generate_examples(sequences, window_size, num_negative_samples, vocabulary_size):\n",
    "\n",
    "    example_weights = defaultdict(int)\n",
    "    \n",
    "    # Iterate over all sequences (walks)\n",
    "\n",
    "    for sequence in tqdm(\n",
    "        \n",
    "        sequences,\n",
    "\n",
    "        position = 0,\n",
    "\n",
    "        leave = True,\n",
    "\n",
    "        desc = f\"Generating postive and negative examples\",\n",
    "    ):\n",
    "        \n",
    "        # Generate positive and negative skipgram pairs for a sequence or walk\n",
    "        \n",
    "        pairs, labels = keras.preprocessing.sequence.skipgrams(\n",
    "            \n",
    "            sequence,\n",
    "\n",
    "            vocabulary_size = vocabulary_size,\n",
    "\n",
    "            window_size = window_size,\n",
    "\n",
    "            negative_samples = num_negative_samples,\n",
    "\n",
    "        )\n",
    "        for idx in range(len(pairs)):  # Iterating through all pairs received from the skipgram function\n",
    "\n",
    "            pair = pairs[idx]  # Extracting the pair of movies\n",
    "\n",
    "            label = labels[idx]  # Extracting the labels\n",
    "\n",
    "            target, context = min(pair[0], pair[1]), max(pair[0], pair[1])\n",
    "\n",
    "            if target == context:\n",
    "             \n",
    "                continue\n",
    "\n",
    "            if(label == 1):  # If a positive sample is generated we label them 1, otherwise we label them 0  \n",
    "                \n",
    "                previous_negative_label = 0\n",
    "\n",
    "                previous_negative_entry = (target, context, previous_negative_label)\n",
    "\n",
    "                example_weights[previous_negative_entry] = 0  # Making the previous entry of the negative sample equal to zero because we have a positive sample now\n",
    "                \n",
    "                entry = (target, context, label)\n",
    "                \n",
    "                example_weights[entry] += 1\n",
    "            \n",
    "            if(label == 0):  # If a negative sample is generated\n",
    "                \n",
    "                querylabel = 1\n",
    "                \n",
    "                queryentry = (target, context, querylabel)  # We check if a positive sample with the same pair of movies exist   \n",
    "                \n",
    "                if ( example_weights[queryentry]>0):\n",
    "                \n",
    "                    continue  # We skip adding this entry to our entry if already a positive sample exists\n",
    "             \n",
    "                else:\n",
    "             \n",
    "                    entry = (target, context, label)\n",
    "             \n",
    "                    example_weights[entry] +=1  # If a positive sample doesn't exist, we add the negative example\n",
    "\n",
    "    targets, contexts, labels, weights = [], [], [], []\n",
    "\n",
    "    for entry in example_weights:\n",
    "    \n",
    "        weight = example_weights[entry]\n",
    "    \n",
    "        if(weight > 0):\n",
    "\n",
    "            target, context, label = entry  # Tuple unpacking of the 'entry' tuple\n",
    "            \n",
    "            targets.append(target)\n",
    "            \n",
    "            contexts.append(context)\n",
    "            \n",
    "            labels.append(label)\n",
    "            \n",
    "            weights.append(weight)\n",
    "\n",
    "    return np.array(targets), np.array(contexts), np.array(labels), np.array(weights)\n",
    "\n",
    "\n",
    "num_negative_samples = 4\n",
    "\n",
    "targets, contexts, labels, weights = generate_examples(\n",
    "\n",
    "    sequences = walks,\n",
    "\n",
    "    window_size = num_steps,\n",
    "    \n",
    "    num_negative_samples = num_negative_samples,\n",
    "\n",
    "    vocabulary_size = len(vocabulary),\n",
    "    \n",
    ")"
   ]
  },
  {
   "cell_type": "code",
   "execution_count": 23,
   "id": "307544d6",
   "metadata": {},
   "outputs": [
    {
     "name": "stdout",
     "output_type": "stream",
     "text": [
      "Targets shape: (728924,)\n",
      "Contexts shape: (728924,)\n",
      "Labels shape: (728924,)\n",
      "Weights shape: (728924,)\n"
     ]
    }
   ],
   "source": [
    "print(f\"Targets shape: {targets.shape}\")\n",
    "\n",
    "print(f\"Contexts shape: {contexts.shape}\")\n",
    "\n",
    "print(f\"Labels shape: {labels.shape}\")\n",
    "\n",
    "print(f\"Weights shape: {weights.shape}\")\n"
   ]
  },
  {
   "cell_type": "code",
   "execution_count": 24,
   "id": "6f097b5e",
   "metadata": {},
   "outputs": [],
   "source": [
    "batch_size = 1024\n",
    "\n",
    "def create_dataset(targets, contexts, labels, weights, batch_size):\n",
    "\n",
    "    inputs = {\n",
    "\n",
    "        \"target\": targets,\n",
    "\n",
    "        \"context\": contexts,\n",
    "\n",
    "    }  # Pre-processing the targets, contexts, and labels vectors to fit our Neural Network pipeline \n",
    "    \n",
    "    dataset = tf.data.Dataset.from_tensor_slices((inputs, labels, weights))\n",
    "    \n",
    "    dataset = dataset.shuffle(buffer_size = batch_size * 2)  # Shuffling the data set to remove any chance of sequential data\n",
    "    \n",
    "    dataset = dataset.batch(batch_size, drop_remainder = True)\n",
    "\n",
    "    dataset = dataset.prefetch(tf.data.AUTOTUNE)\n",
    " \n",
    "    return dataset\n",
    "\n",
    "\n",
    "dataset = create_dataset(\n",
    "\n",
    "    targets = targets,\n",
    "\n",
    "    contexts = contexts,\n",
    "\n",
    "    labels = labels,\n",
    "    \n",
    "    weights = weights,\n",
    "    \n",
    "    batch_size = batch_size,\n",
    ")\n"
   ]
  },
  {
   "cell_type": "code",
   "execution_count": 25,
   "id": "1ff7ebcc",
   "metadata": {},
   "outputs": [],
   "source": [
    "learning_rate = 0.001\n",
    "\n",
    "embedding_dim = 50\n",
    "\n",
    "num_epochs = 10"
   ]
  },
  {
   "cell_type": "code",
   "execution_count": 26,
   "id": "00deed33",
   "metadata": {},
   "outputs": [],
   "source": [
    "def create_model(vocabulary_size, embedding_dim):\n",
    "\n",
    "    inputs = {\n",
    "\n",
    "        \"target\": layers.Input(name = \"target\", shape = (), dtype = \"int32\"),\n",
    "\n",
    "        \"context\": layers.Input(name = \"context\", shape = (), dtype = \"int32\"),\n",
    "\n",
    "    }\n",
    "    # Initialize item embeddings\n",
    "    \n",
    "    embed_item = layers.Embedding(\n",
    "    \n",
    "        input_dim = vocabulary_size,\n",
    "        \n",
    "        output_dim = embedding_dim,\n",
    "        \n",
    "        embeddings_initializer = \"he_normal\",\n",
    "        \n",
    "        embeddings_regularizer = keras.regularizers.l2(1e-6),\n",
    "        \n",
    "        name=\"item_embeddings\",\n",
    "    )\n",
    "    \n",
    "    # Lookup embeddings for the target\n",
    "\n",
    "    target_embeddings = embed_item(inputs[\"target\"])\n",
    "    \n",
    "    # Lookup embeddings for the context\n",
    "    \n",
    "    context_embeddings = embed_item(inputs[\"context\"])\n",
    "    \n",
    "    # Compute dot similarity between target and context embeddings\n",
    "    \n",
    "    logits = layers.Dot(axes = 1, normalize = False, name = \"dot_similarity\")(\n",
    "        \n",
    "        [target_embeddings, context_embeddings]\n",
    "    )\n",
    "\n",
    "    # Create the model\n",
    "    \n",
    "    model = keras.Model(inputs = inputs, outputs = logits)\n",
    "    \n",
    "    return model"
   ]
  },
  {
   "cell_type": "code",
   "execution_count": 27,
   "id": "848471ab",
   "metadata": {},
   "outputs": [],
   "source": [
    "model = create_model(len(vocabulary), embedding_dim)\n",
    "\n",
    "model.compile(\n",
    "    optimizer = keras.optimizers.Adam(learning_rate),\n",
    "\n",
    "    loss = keras.losses.BinaryCrossentropy(from_logits = True),\n",
    "\n",
    ")  # Setting up the model's optimizers"
   ]
  },
  {
   "cell_type": "code",
   "execution_count": 28,
   "id": "1b90eadf",
   "metadata": {},
   "outputs": [
    {
     "name": "stdout",
     "output_type": "stream",
     "text": [
      "Collecting pydot\n",
      "  Downloading pydot-1.4.2-py2.py3-none-any.whl (21 kB)\n",
      "Collecting pyparsing>=2.1.4\n",
      "  Downloading pyparsing-3.1.0-py3-none-any.whl (102 kB)\n",
      "     ---------------------------------------- 0.0/102.6 kB ? eta -:--:--\n",
      "     -------------------------------------  102.4/102.6 kB 3.0 MB/s eta 0:00:01\n",
      "     -------------------------------------- 102.6/102.6 kB 2.0 MB/s eta 0:00:00\n",
      "Installing collected packages: pyparsing, pydot\n",
      "Successfully installed pydot-1.4.2 pyparsing-3.1.0\n"
     ]
    },
    {
     "name": "stderr",
     "output_type": "stream",
     "text": [
      "\n",
      "[notice] A new release of pip is available: 23.0.1 -> 23.1.2\n",
      "[notice] To update, run: C:\\Users\\USER\\AppData\\Local\\Programs\\Python\\Python311\\python.exe -m pip install --upgrade pip\n"
     ]
    }
   ],
   "source": [
    "!pip install pydot"
   ]
  },
  {
   "cell_type": "code",
   "execution_count": 37,
   "id": "f8abd3b7",
   "metadata": {},
   "outputs": [
    {
     "name": "stdout",
     "output_type": "stream",
     "text": [
      "You must install pydot (`pip install pydot`) and install graphviz (see instructions at https://graphviz.gitlab.io/download/) for plot_model to work.\n"
     ]
    }
   ],
   "source": [
    "keras.utils.plot_model(model, show_shapes = True, show_dtype = True, show_layer_names = True,)"
   ]
  },
  {
   "cell_type": "code",
   "execution_count": 30,
   "id": "799228f0",
   "metadata": {},
   "outputs": [
    {
     "name": "stdout",
     "output_type": "stream",
     "text": [
      "Epoch 1/10\n",
      "711/711 [==============================] - 3s 4ms/step - loss: 2.1073\n",
      "Epoch 2/10\n",
      "711/711 [==============================] - 3s 4ms/step - loss: 1.7555\n",
      "Epoch 3/10\n",
      "711/711 [==============================] - 3s 4ms/step - loss: 1.6908\n",
      "Epoch 4/10\n",
      "711/711 [==============================] - 3s 4ms/step - loss: 1.6592\n",
      "Epoch 5/10\n",
      "711/711 [==============================] - 3s 4ms/step - loss: 1.6394\n",
      "Epoch 6/10\n",
      "711/711 [==============================] - 3s 4ms/step - loss: 1.6252\n",
      "Epoch 7/10\n",
      "711/711 [==============================] - 3s 4ms/step - loss: 1.6128\n",
      "Epoch 8/10\n",
      "711/711 [==============================] - 3s 4ms/step - loss: 1.6003\n",
      "Epoch 9/10\n",
      "711/711 [==============================] - 3s 4ms/step - loss: 1.5864\n",
      "Epoch 10/10\n",
      "711/711 [==============================] - 3s 4ms/step - loss: 1.5709\n"
     ]
    }
   ],
   "source": [
    "history = model.fit(dataset, epochs = num_epochs)"
   ]
  },
  {
   "cell_type": "code",
   "execution_count": 34,
   "id": "ba844a18",
   "metadata": {},
   "outputs": [
    {
     "data": {
      "image/png": "[encoded data removed]",
      "text/plain": [
       "<Figure size 640x480 with 1 Axes>"
      ]
     },
     "metadata": {},
     "output_type": "display_data"
    }
   ],
   "source": [
    "plt.plot(history.history[\"loss\"])\n",
    "\n",
    "plt.ylabel(\"loss\")\n",
    "\n",
    "plt.xlabel(\"epoch\")\n",
    "\n",
    "plt.show()"
   ]
  },
  {
   "cell_type": "code",
   "execution_count": 38,
   "id": "a88e7239",
   "metadata": {},
   "outputs": [
    {
     "name": "stdout",
     "output_type": "stream",
     "text": [
      "Embeddings shape: (1406, 50)\n"
     ]
    }
   ],
   "source": [
    "movie_embeddings = model.get_layer(\"item_embeddings\").get_weights()[0]  # Extracting the layer weight by layer name\n",
    "\n",
    "print(\"Embeddings shape:\", movie_embeddings.shape)"
   ]
  },
  {
   "cell_type": "code",
   "execution_count": 39,
   "id": "f247a525",
   "metadata": {},
   "outputs": [],
   "source": [
    "query_movies = [\n",
    "    \"Titanic (1997)\",\n",
    "\n",
    "    \"Star Wars: Episode IV - A New Hope (1977)\",\n",
    "\n",
    "    \"Lion King, The (1994)\",\n",
    "\n",
    "    \"Terminator 2: Judgment Day (1991)\",\n",
    "\n",
    "    \"Godfather, The (1972)\",\n",
    "]"
   ]
  },
  {
   "cell_type": "code",
   "execution_count": 40,
   "id": "d4ff5224",
   "metadata": {},
   "outputs": [],
   "source": [
    "query_embeddings = []\n",
    "\n",
    "for movie_title in query_movies:\n",
    "\n",
    "    movieId = get_movie_id_by_title(movie_title)  # Getting id from the title of the movie\n",
    "    \n",
    "    token_id = vocabulary_lookup[movieId]  # Getting index to lookup for embedding task\n",
    "    \n",
    "    movie_embedding = movie_embeddings[token_id]  # Getting embedding for query movies\n",
    "    \n",
    "    query_embeddings.append(movie_embedding)\n",
    "\n",
    "query_embeddings = np.array(query_embeddings)"
   ]
  },
  {
   "cell_type": "code",
   "execution_count": 41,
   "id": "32d6a8c2",
   "metadata": {},
   "outputs": [],
   "source": [
    "similarities = tf.linalg.matmul(\n",
    "\n",
    "    tf.math.l2_normalize(query_embeddings),  # Normalizing the results of multiplication to get output of dot product on a scale of 0 to 1\n",
    "    \n",
    "    tf.math.l2_normalize(movie_embeddings),\n",
    "    \n",
    "    transpose_b = True,)\n",
    "\n",
    "_, indices = tf.math.top_k(similarities, k = 5)\n",
    "\n",
    "indices = indices.numpy().tolist()\n"
   ]
  },
  {
   "cell_type": "code",
   "execution_count": 42,
   "id": "6082bc17",
   "metadata": {},
   "outputs": [
    {
     "name": "stdout",
     "output_type": "stream",
     "text": [
      "Titanic (1997)\n",
      "--------------\n",
      "- Aladdin (1992)\n",
      "- Lion King, The (1994)\n",
      "- Jurassic Park (1993)\n",
      "- Beauty and the Beast (1991)\n",
      "- Die Hard: With a Vengeance (1995)\n",
      "\n",
      "Star Wars: Episode IV - A New Hope (1977)\n",
      "-----------------------------------------\n",
      "- Star Wars: Episode IV - A New Hope (1977)\n",
      "- Monty Python and the Holy Grail (1975)\n",
      "- Terminator 2: Judgment Day (1991)\n",
      "- Matrix, The (1999)\n",
      "- Pulp Fiction (1994)\n",
      "\n",
      "Lion King, The (1994)\n",
      "---------------------\n",
      "- Lion King, The (1994)\n",
      "- Jurassic Park (1993)\n",
      "- Aladdin (1992)\n",
      "- Fugitive, The (1993)\n",
      "- Beauty and the Beast (1991)\n",
      "\n",
      "Terminator 2: Judgment Day (1991)\n",
      "---------------------------------\n",
      "- Terminator 2: Judgment Day (1991)\n",
      "- Forrest Gump (1994)\n",
      "- Jurassic Park (1993)\n",
      "- Star Wars: Episode VI - Return of the Jedi (1983)\n",
      "- Aliens (1986)\n",
      "\n",
      "Godfather, The (1972)\n",
      "---------------------\n",
      "- Godfather, The (1972)\n",
      "- Apocalypse Now (1979)\n",
      "- Graduate, The (1967)\n",
      "- Rear Window (1954)\n",
      "- Citizen Kane (1941)\n",
      "\n"
     ]
    }
   ],
   "source": [
    "for idx, title in enumerate(query_movies):\n",
    "\n",
    "    print(title)\n",
    "\n",
    "    print(\"\".rjust(len(title), \"-\"))\n",
    "\n",
    "    similar_tokens = indices[idx]\n",
    "\n",
    "    for token in similar_tokens:\n",
    "\n",
    "        similar_movieId = vocabulary[token]\n",
    "\n",
    "        similar_title = get_movie_title_by_id(similar_movieId)\n",
    "\n",
    "        print(f\"- {similar_title}\")\n",
    "\n",
    "    print()"
   ]
  },
  {
   "cell_type": "code",
   "execution_count": 43,
   "id": "5e2100ad",
   "metadata": {},
   "outputs": [],
   "source": [
    "import pickle"
   ]
  },
  {
   "cell_type": "code",
   "execution_count": 44,
   "id": "763ea7a4-ef02-44d5-90f3-56f14ea4c173",
   "metadata": {},
   "outputs": [],
   "source": [
    "pickle.dump(movies,open('model/movie_list.pkl','wb'))"
   ]
  },
  {
   "cell_type": "code",
   "execution_count": 45,
   "id": "c5492aa0-f57c-42b2-8648-343fc2b85427",
   "metadata": {},
   "outputs": [],
   "source": [
    "pickle.dump(similarities,open('model/similarities.pkl','wb'))"
   ]
  },
  {
   "cell_type": "code",
   "execution_count": 46,
   "id": "d48be061-7edd-4ad7-9083-d57ea172506e",
   "metadata": {},
   "outputs": [],
   "source": [
    "pickle.dump(movies,open('model/movie_list.csv','wb'))"
   ]
  },
  {
   "cell_type": "code",
   "execution_count": null,
   "id": "790517cc",
   "metadata": {},
   "outputs": [],
   "source": []
  }
 ],
 "metadata": {
  "kernelspec": {
   "display_name": "Python 3 (ipykernel)",
   "language": "python",
   "name": "python3"
  },
  "language_info": {
   "codemirror_mode": {
    "name": "ipython",
    "version": 3
   },
   "file_extension": ".py",
   "mimetype": "text/x-python",
   "name": "python",
   "nbconvert_exporter": "python",
   "pygments_lexer": "ipython3",
   "version": "3.11.2"
  }
 },
 "nbformat": 4,
 "nbformat_minor": 5
}
